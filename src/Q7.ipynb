{
 "cells": [
  {
   "cell_type": "code",
   "execution_count": 2,
   "metadata": {
    "scrolled": true
   },
   "outputs": [
    {
     "name": "stdout",
     "output_type": "stream",
     "text": [
      "delta = 0.0239\n",
      "se = 0.005122987409705395\n",
      "w = 4.66524667906\n",
      "p-value from wald test\n",
      "2e-05\n",
      "t_obs = \n",
      "0.0239\n",
      "p-value from permutation test\n",
      "0.000208\n"
     ]
    }
   ],
   "source": [
    "import numpy as np\n",
    "import math\n",
    "import random\n",
    "import itertools\n",
    "\n",
    "x1 = [0.225, 0.262, 0.217, 0.240, 0.230, 0.229, 0.235, 0.217, 0.231, 0.250]\n",
    "x2 = [0.209, 0.205, 0.196, 0.210, 0.202, 0.207, 0.224, 0.223, 0.220, 0.201]\n",
    "\n",
    "mean1 = np.mean(x1)\n",
    "mean2 = np.mean(x2)\n",
    "\n",
    "delta = abs(mean1-mean2)\n",
    "print( \"delta = \" + str(delta) )\n",
    "\n",
    "var1 = np.var(x1)\n",
    "var2 = np.var(x2)\n",
    "se   = math.sqrt( var1/10 + var2/10 )\n",
    "print( \"se = \" + str(se) )\n",
    "\n",
    "w = delta / se\n",
    "print( \"w = \" + str(w) )\n",
    "\n",
    "p_value = 2 * 0.00001\n",
    "print(\"p-value from wald test\")\n",
    "print(p_value)\n",
    "\n",
    "\n",
    "\n",
    "# sample1 = [ mylist[i] for i in sorted(random.sample(xrange(len(x1)), 100))]\n",
    "# print(sample1)\n",
    "l = x1 + x2\n",
    "# random.shuffle(l)\n",
    "t_obs = abs(delta)\n",
    "print(\"t_obs = \")\n",
    "print(t_obs)\n",
    "t = []\n",
    "for i in range(0,1000000):\n",
    "    perm = np.random.permutation(l)\n",
    "    x1 = perm[0:10]\n",
    "    x2 = perm[10:20]\n",
    "    mean1 = np.mean(x1)\n",
    "    mean2 = np.mean(x2)\n",
    "    t.append(abs(mean1-mean2))\n",
    "    \n",
    "\n",
    "# print(t[0:10])\n",
    "count = 0\n",
    "for t_i in t:\n",
    "    if(t_i>t_obs):\n",
    "        count = count + 1\n",
    "# print(\"count =\")\n",
    "# print(count)\n",
    "p_value = float(count)/len(t)\n",
    "print(\"p-value from permutation test\")\n",
    "print(p_value)\n"
   ]
  },
  {
   "cell_type": "code",
   "execution_count": null,
   "metadata": {},
   "outputs": [],
   "source": []
  }
 ],
 "metadata": {
  "kernelspec": {
   "display_name": "Python 3",
   "language": "python",
   "name": "python3"
  },
  "language_info": {
   "codemirror_mode": {
    "name": "ipython",
    "version": 3
   },
   "file_extension": ".py",
   "mimetype": "text/x-python",
   "name": "python",
   "nbconvert_exporter": "python",
   "pygments_lexer": "ipython3",
   "version": "3.6.2"
  }
 },
 "nbformat": 4,
 "nbformat_minor": 2
}
