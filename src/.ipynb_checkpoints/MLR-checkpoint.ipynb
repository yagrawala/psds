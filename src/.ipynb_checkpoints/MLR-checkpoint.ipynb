{
 "cells": [
  {
   "cell_type": "code",
   "execution_count": 119,
   "metadata": {},
   "outputs": [],
   "source": [
    "import pandas as pd\n",
    "import numpy as np\n",
    "import matplotlib.pyplot as plt\n",
    "from datetime import datetime\n",
    "import time\n",
    "\n",
    "repo_name = {}\n",
    "\n",
    "def read_data(filepath):\n",
    "    d = pd.read_csv(filepath)\n",
    "    return d\n",
    "\n",
    "def clean_data():\n",
    "    curr_millis = int(round(time.time()))\n",
    "\n",
    "    d = read_data(\"watcher.csv\")\n",
    "    repo = d[\"repo_name\"]\n",
    "    watch_count = d[\"watch_count\"]\n",
    "    for i in range(len(repo)):\n",
    "            repo_name[repo[i]] = [watch_count[i], np.nan, np.nan, np.nan, np.nan, np.nan]\n",
    "\n",
    "    d = read_data(\"lang_count.csv\")\n",
    "    repo = d[\"L_repo_name\"]\n",
    "    lang_count = d[\"L_lang_count\"]\n",
    "    lan_sum = 0\n",
    "    count = 0\n",
    "    for i in range(len(repo)):\n",
    "            if repo[i] in repo_name:\n",
    "                    repo_name[repo[i]][1] = lang_count[i]\n",
    "            if not pd.isnull(lang_count[i]):\n",
    "                lan_sum += lang_count[i]\n",
    "                count += 1\n",
    "    \n",
    "    mean_lang_count = lan_sum/count\n",
    "    print(mean_lang_count)\n",
    "    \n",
    "    file_sum = 0\n",
    "    count = 0\n",
    "    d = read_data(\"files_count.csv\")\n",
    "    repo = d[\"S_repo_name\"]\n",
    "    file_count = d[\"C_files\"]\n",
    "    for i in range(len(repo)):\n",
    "            if not pd.isnull(file_count[i]):\n",
    "                    repo_name[repo[i]][2] = file_count[i]\n",
    "            if not pd.isnull(file_count[i]):\n",
    "                file_sum += file_count[i]\n",
    "                count += 1\n",
    "    \n",
    "    mean_file_count = file_sum/count\n",
    "    print(mean_file_count)\n",
    "\n",
    "    commiter_sum = 0\n",
    "    count = 0\n",
    "    d = read_data(\"committer_count.csv\")\n",
    "    repo = d[\"S_repo_name\"]\n",
    "    committer_count = d[\"C_committer_count\"]\n",
    "    for i in range(len(repo)):\n",
    "            if not pd.isnull(committer_count[i]):\n",
    "                    repo_name[repo[i]][3] = committer_count[i]\n",
    "            if not pd.isnull(committer_count[i]):\n",
    "                commiter_sum += committer_count[i]\n",
    "                count += 1\n",
    "    \n",
    "    mean_committer_count = commiter_sum/count\n",
    "    print(mean_committer_count)\n",
    "\n",
    "    commit_sum = 0\n",
    "    count = 0\n",
    "    d = read_data(\"commit_count.csv\")\n",
    "    repo = d[\"S_repo_name\"]\n",
    "    commit_count = d[\"C_comm_count\"]\n",
    "    for i in range(len(repo)):\n",
    "            if not pd.isnull(commit_count[i]):\n",
    "                    repo_name[repo[i]][4] = commit_count[i]\n",
    "            if not pd.isnull(commit_count[i]):\n",
    "                commit_sum += commit_count[i]\n",
    "                count += 1\n",
    "    \n",
    "    mean_commit_count = commit_sum/count\n",
    "    print(mean_commit_count)\n",
    "\n",
    "    d = read_data(\"committer_date.csv\")\n",
    "    repo = d[\"S_repo_name\"]\n",
    "    commit_date = d[\"C_commit_date\"]\n",
    "    for i in range(len(repo)):\n",
    "            if not pd.isnull(commit_date[i]):\n",
    "                    dt_obj = datetime.strptime(commit_date[i][:-4],'%Y-%m-%d %H:%M:%S')\n",
    "                    millisec = dt_obj.timestamp()\n",
    "                    repo_name[repo[i]][5] = curr_millis - millisec\n",
    "                    \n",
    "    repo_name1 = repo_name.copy()\n",
    "    print(len(repo_name1))\n",
    "    for i in repo_name.keys():\n",
    "            if pd.isnull(repo_name[i][5]):\n",
    "                    del repo_name1[i]\n",
    "\n",
    "    print(len(repo_name1))\n",
    "    return (repo_name1, mean_lang_count, mean_file_count, mean_committer_count, mean_commit_count)"
   ]
  },
  {
   "cell_type": "code",
   "execution_count": 120,
   "metadata": {},
   "outputs": [
    {
     "name": "stdout",
     "output_type": "stream",
     "text": [
      "2.5628183462\n",
      "325.597920902\n",
      "11.4284996691\n",
      "849.54371336\n",
      "400000\n",
      "169216\n"
     ]
    }
   ],
   "source": [
    "(repo_name1, mean_lang_count, mean_file_count, mean_committer_count, mean_commit_count) = clean_data()"
   ]
  },
  {
   "cell_type": "code",
   "execution_count": 121,
   "metadata": {},
   "outputs": [],
   "source": [
    "df = pd.DataFrame.from_dict(repo_name1, orient='index')\n",
    "df.columns = [\"watch_count\", \"lang_count\", \"files_count\", \"committer_count\", \"commit_count\", \"commit_date\"]"
   ]
  },
  {
   "cell_type": "code",
   "execution_count": 122,
   "metadata": {},
   "outputs": [],
   "source": [
    "df.to_csv(\"Final.csv\")"
   ]
  },
  {
   "cell_type": "code",
   "execution_count": 123,
   "metadata": {},
   "outputs": [],
   "source": [
    "data = pd.read_csv(\"Final.csv\")"
   ]
  },
  {
   "cell_type": "code",
   "execution_count": 127,
   "metadata": {},
   "outputs": [
    {
     "data": {
      "text/plain": [
       "[[-2.0401982802401264],\n",
       " [2.4611909525084417],\n",
       " [-0.001992407804806082],\n",
       " [1.134851732788944],\n",
       " [-0.0017559234229164188],\n",
       " [8.94242387419306e-08]]"
      ]
     },
     "execution_count": 127,
     "metadata": {},
     "output_type": "execute_result"
    }
   ],
   "source": [
    "LC = data['lang_count']\n",
    "FC = data['files_count']\n",
    "CC = data['committer_count']\n",
    "COC = data['commit_count']\n",
    "CD = data['commit_date']\n",
    "WC = data['watch_count']\n",
    "O = np.ones((len(FC),1))\n",
    "\n",
    "#creating the x matix with the two features and excluding beta_0\n",
    "X = np.zeros((len(FC),6))\n",
    "X[:,0] = list(O)[:]\n",
    "X[:,1] = LC[:]\n",
    "X[:,2] = FC[:]\n",
    "X[:,3] = CC[:]\n",
    "X[:,4] = COC[:]\n",
    "X[:,5] = CD[:]\n",
    "\n",
    "null_val_index = np.argwhere(np.isnan(X))\n",
    "for i in range(0,len(null_val_index)):\n",
    "    if null_val_index[i][1] == 1:\n",
    "        X[null_val_index[i][0]] = mean_lang_count\n",
    "    elif null_val_index[i][1] == 2:\n",
    "        X[null_val_index[i][0]] = mean_file_count\n",
    "    elif null_val_index[i][1] == 3:  \n",
    "        X[null_val_index[i][0]] = mean_committer_count\n",
    "    elif null_val_index[i][1] == 4:\n",
    "        X[null_val_index[i][0]] = mean_commit_count\n",
    "\n",
    "\n",
    "Y = np.zeros((len(WC),1))\n",
    "Y[:,0] = WC[:]\n",
    "\n",
    "#Calculating Beta using Linear Regression ((X_T*X)^-1)(X_T*Y)\n",
    "beta = np.matmul(np.linalg.inv(np.matmul(np.matrix.transpose(X),X)), np.matmul(np.matrix.transpose(X), Y))\n",
    "beta.tolist()"
   ]
  },
  {
   "cell_type": "code",
   "execution_count": 128,
   "metadata": {},
   "outputs": [
    {
     "data": {
      "text/plain": [
       "[[-2.9061833877340284,\n",
       "  1.6774140931214483,\n",
       "  -0.00196167954197147,\n",
       "  1.160995342319948,\n",
       "  -0.0016447942602627911,\n",
       "  -1.0357489871991522e-07]]"
      ]
     },
     "execution_count": 128,
     "metadata": {},
     "output_type": "execute_result"
    }
   ],
   "source": [
    "from sklearn.linear_model import LinearRegression\n",
    "lm = LinearRegression()\n",
    "model = lm.fit(X,Y)\n",
    "model.coef_.tolist()"
   ]
  },
  {
   "cell_type": "code",
   "execution_count": null,
   "metadata": {
    "collapsed": true
   },
   "outputs": [],
   "source": []
  }
 ],
 "metadata": {
  "kernelspec": {
   "display_name": "Python 3",
   "language": "python",
   "name": "python3"
  },
  "language_info": {
   "codemirror_mode": {
    "name": "ipython",
    "version": 3
   },
   "file_extension": ".py",
   "mimetype": "text/x-python",
   "name": "python",
   "nbconvert_exporter": "python",
   "pygments_lexer": "ipython3",
   "version": "3.6.1"
  }
 },
 "nbformat": 4,
 "nbformat_minor": 2
}
