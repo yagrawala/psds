{
 "cells": [
  {
   "cell_type": "code",
   "execution_count": 2,
   "metadata": {},
   "outputs": [],
   "source": [
    "import numpy as np\n",
    "import matplotlib.pyplot as plt\n",
    "import csv\n",
    "%matplotlib inline"
   ]
  },
  {
   "cell_type": "code",
   "execution_count": 3,
   "metadata": {},
   "outputs": [],
   "source": [
    "reader = csv.reader(open(\"../data/individual_trend_data/tensorflow_trend.csv\", \"rt\"), delimiter=\",\") #read the .csv\n",
    "next(reader, None) #skip the first row, that's just the column names\n",
    "x = list(reader)\n",
    "#print (x)\n",
    "years=[]\n",
    "count=[]\n",
    "for i in x:\n",
    "    years.append(i[0])\n",
    "    count.append(i[1])\n",
    "x_vals = np.array(years).astype(np.int)\n",
    "y_vals = np.array(count).astype(np.float)\n",
    "x_vals.sort()\n",
    "y_vals.sort()\n",
    "#print (x_vals)\n",
    "#print (y_vals)\n"
   ]
  },
  {
   "cell_type": "code",
   "execution_count": 4,
   "metadata": {},
   "outputs": [],
   "source": [
    "plt.figure(figsize=(20,8))\n",
    "\n",
    "#Uncomment these lines for a bar graph\n",
    "# y_pos = np.arange(len(x_vals))\n",
    "# plt.bar(y_pos, y_vals, align='center', alpha=0.5)\n",
    "# plt.xticks(y_pos, x_vals)\n",
    "# plt.ylabel('Usage')\n",
    "# plt.xlabel('Years')\n",
    "# plt.title('Scipy usage over the years')\n",
    "\n",
    "plt.plot(x_vals, y_vals, color='orange')\n",
    "plt.xlabel('Years')\n",
    "plt.ylabel('Repo Count')\n",
    "plt.title('TensorFlow usage over the years')\n",
    "plt.show()\n",
    " \n"
   ]
  },
  {
   "cell_type": "code",
   "execution_count": null,
   "metadata": {
    "collapsed": true
   },
   "outputs": [],
   "source": []
  }
 ],
 "metadata": {
  "kernelspec": {
   "display_name": "Python 2",
   "language": "python",
   "name": "python2"
  },
  "language_info": {
   "codemirror_mode": {
    "name": "ipython",
    "version": 2
   },
   "file_extension": ".py",
   "mimetype": "text/x-python",
   "name": "python",
   "nbconvert_exporter": "python",
   "pygments_lexer": "ipython2",
   "version": "2.7.10"
  }
 },
 "nbformat": 4,
 "nbformat_minor": 2
}
