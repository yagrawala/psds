{
 "cells": [
  {
   "cell_type": "code",
   "execution_count": 6,
   "metadata": {
    "collapsed": true
   },
   "outputs": [],
   "source": [
    "import pandas as pd\n",
    "import numpy as np\n",
    "import matplotlib.pyplot as plt\n",
    "from datetime import datetime\n",
    "import time\n",
    "\n",
    "repo_name = {}\n",
    "\n",
    "def read_data(filepath):\n",
    "    d = pd.read_csv(filepath)\n",
    "    return d\n",
    "\n",
    "def clean_data():\n",
    "    curr_millis = int(round(time.time()))\n",
    "\n",
    "    d = read_data(\"../data/MLR/watcher.csv\")\n",
    "    repo = d[\"repo_name\"]\n",
    "    watch_count = d[\"watch_count\"]\n",
    "    for i in range(len(repo)):\n",
    "            repo_name[repo[i]] = [watch_count[i], np.nan, np.nan, np.nan, np.nan, np.nan]\n",
    "\n",
    "    d = read_data(\"../data/MLR/lang_count.csv\")\n",
    "    repo = d[\"L_repo_name\"]\n",
    "    lang_count = d[\"L_lang_count\"]\n",
    "    lan_sum = 0\n",
    "    count = 0\n",
    "    for i in range(len(repo)):\n",
    "            if repo[i] in repo_name:\n",
    "                    repo_name[repo[i]][1] = lang_count[i]\n",
    "            if not pd.isnull(lang_count[i]):\n",
    "                lan_sum += lang_count[i]\n",
    "                count += 1\n",
    "    \n",
    "    mean_lang_count = lan_sum/count\n",
    "    print(mean_lang_count)\n",
    "    \n",
    "    file_sum = 0\n",
    "    count = 0\n",
    "    d = read_data(\"../data/MLR/files_count.csv\")\n",
    "    repo = d[\"S_repo_name\"]\n",
    "    file_count = d[\"C_files\"]\n",
    "    for i in range(len(repo)):\n",
    "            if not pd.isnull(file_count[i]):\n",
    "                    repo_name[repo[i]][2] = file_count[i]\n",
    "            if not pd.isnull(file_count[i]):\n",
    "                file_sum += file_count[i]\n",
    "                count += 1\n",
    "    \n",
    "    mean_file_count = file_sum/count\n",
    "    print(mean_file_count)\n",
    "\n",
    "    commiter_sum = 0\n",
    "    count = 0\n",
    "    d = read_data(\"../data/MLR/committer_count.csv\")\n",
    "    repo = d[\"S_repo_name\"]\n",
    "    committer_count = d[\"C_committer_count\"]\n",
    "    for i in range(len(repo)):\n",
    "            if not pd.isnull(committer_count[i]):\n",
    "                    repo_name[repo[i]][3] = committer_count[i]\n",
    "            if not pd.isnull(committer_count[i]):\n",
    "                commiter_sum += committer_count[i]\n",
    "                count += 1\n",
    "    \n",
    "    mean_committer_count = commiter_sum/count\n",
    "    print(mean_committer_count)\n",
    "\n",
    "    commit_sum = 0\n",
    "    count = 0\n",
    "    d = read_data(\"../data/MLR/commit_count.csv\")\n",
    "    repo = d[\"S_repo_name\"]\n",
    "    commit_count = d[\"C_comm_count\"]\n",
    "    for i in range(len(repo)):\n",
    "            if not pd.isnull(commit_count[i]):\n",
    "                    repo_name[repo[i]][4] = commit_count[i]\n",
    "            if not pd.isnull(commit_count[i]):\n",
    "                commit_sum += commit_count[i]\n",
    "                count += 1\n",
    "    \n",
    "    mean_commit_count = commit_sum/count\n",
    "    print(mean_commit_count)\n",
    "\n",
    "    d = read_data(\"../data/MLR/committer_date.csv\")\n",
    "    repo = d[\"S_repo_name\"]\n",
    "    commit_date = d[\"C_commit_date\"]\n",
    "    for i in range(len(repo)):\n",
    "            if not pd.isnull(commit_date[i]):\n",
    "                    dt_obj = datetime.strptime(commit_date[i][:-4],'%Y-%m-%d %H:%M:%S')\n",
    "                    millisec = dt_obj.timestamp()\n",
    "                    repo_name[repo[i]][5] = curr_millis - millisec\n",
    "                    \n",
    "    repo_name1 = repo_name.copy()\n",
    "    print(len(repo_name1))\n",
    "    for i in repo_name.keys():\n",
    "            if pd.isnull(repo_name[i][5]):\n",
    "                    del repo_name1[i]\n",
    "\n",
    "    print(len(repo_name1))\n",
    "    return (repo_name1, mean_lang_count, mean_file_count, mean_committer_count, mean_commit_count)"
   ]
  },
  {
   "cell_type": "code",
   "execution_count": 7,
   "metadata": {},
   "outputs": [
    {
     "name": "stdout",
     "output_type": "stream",
     "text": [
      "2.5628183462\n",
      "325.597920902\n",
      "11.4284996691\n",
      "849.54371336\n",
      "400000\n",
      "169216\n"
     ]
    }
   ],
   "source": [
    "(repo_name1, mean_lang_count, mean_file_count, mean_committer_count, mean_commit_count) = clean_data()"
   ]
  },
  {
   "cell_type": "code",
   "execution_count": 8,
   "metadata": {
    "collapsed": true
   },
   "outputs": [],
   "source": [
    "df = pd.DataFrame.from_dict(repo_name1, orient='index')\n",
    "df.columns = [\"watch_count\", \"lang_count\", \"files_count\", \"committer_count\", \"commit_count\", \"commit_date\"]"
   ]
  },
  {
   "cell_type": "code",
   "execution_count": 9,
   "metadata": {
    "collapsed": true
   },
   "outputs": [],
   "source": [
    "df.to_csv(\"../data/MLR/Final.csv\")"
   ]
  },
  {
   "cell_type": "code",
   "execution_count": 10,
   "metadata": {
    "collapsed": true
   },
   "outputs": [],
   "source": [
    "data = pd.read_csv(\"../data/MLR/Final.csv\")"
   ]
  },
  {
   "cell_type": "code",
   "execution_count": 11,
   "metadata": {},
   "outputs": [
    {
     "data": {
      "text/plain": [
       "[[-2.0399396639671687],\n",
       " [2.459931134185556],\n",
       " [-0.0019923028486796487],\n",
       " [1.1348329831466304],\n",
       " [-0.0017558799102517497],\n",
       " [8.943113015545423e-08]]"
      ]
     },
     "execution_count": 11,
     "metadata": {},
     "output_type": "execute_result"
    }
   ],
   "source": [
    "LC = data['lang_count']\n",
    "FC = data['files_count']\n",
    "CC = data['committer_count']\n",
    "COC = data['commit_count']\n",
    "CD = data['commit_date']\n",
    "WC = data['watch_count']\n",
    "O = np.ones((len(FC),1))\n",
    "\n",
    "#creating the x matix with the two features and excluding beta_0\n",
    "X = np.zeros((len(FC),6))\n",
    "X[:,0] = list(O)[:]\n",
    "X[:,1] = LC[:]\n",
    "X[:,2] = FC[:]\n",
    "X[:,3] = CC[:]\n",
    "X[:,4] = COC[:]\n",
    "X[:,5] = CD[:]\n",
    "\n",
    "null_val_index = np.argwhere(np.isnan(X))\n",
    "for i in range(0,len(null_val_index)):\n",
    "    if null_val_index[i][1] == 1:\n",
    "        X[null_val_index[i][0]] = mean_lang_count\n",
    "    elif null_val_index[i][1] == 2:\n",
    "        X[null_val_index[i][0]] = mean_file_count\n",
    "    elif null_val_index[i][1] == 3:  \n",
    "        X[null_val_index[i][0]] = mean_committer_count\n",
    "    elif null_val_index[i][1] == 4:\n",
    "        X[null_val_index[i][0]] = mean_commit_count\n",
    "\n",
    "\n",
    "Y = np.zeros((len(WC),1))\n",
    "Y[:,0] = WC[:]\n",
    "\n",
    "#Calculating Beta using Linear Regression ((X_T*X)^-1)(X_T*Y)\n",
    "beta = np.matmul(np.linalg.inv(np.matmul(np.matrix.transpose(X),X)), np.matmul(np.matrix.transpose(X), Y))\n",
    "beta.tolist()"
   ]
  },
  {
   "cell_type": "code",
   "execution_count": 17,
   "metadata": {
    "collapsed": true
   },
   "outputs": [],
   "source": [
    "Y1 = np.matmul(X, beta)"
   ]
  },
  {
   "cell_type": "code",
   "execution_count": 18,
   "metadata": {},
   "outputs": [
    {
     "data": {
      "text/plain": [
       "13436093302.185266"
      ]
     },
     "execution_count": 18,
     "metadata": {},
     "output_type": "execute_result"
    }
   ],
   "source": [
    "util.getSSE(Y,Y1)"
   ]
  },
  {
   "cell_type": "code",
   "execution_count": 19,
   "metadata": {},
   "outputs": [
    {
     "data": {
      "text/plain": [
       "379.34150068366858"
      ]
     },
     "execution_count": 19,
     "metadata": {},
     "output_type": "execute_result"
    }
   ],
   "source": [
    "util.getMAPE(Y,Y1)"
   ]
  },
  {
   "cell_type": "code",
   "execution_count": 23,
   "metadata": {},
   "outputs": [
    {
     "data": {
      "image/png": "[encoded data removed]",
      "text/plain": [
       "<matplotlib.figure.Figure at 0x1242d4dd8>"
      ]
     },
     "metadata": {},
     "output_type": "display_data"
    }
   ],
   "source": [
    "epsilon1 = Y-Y1\n",
    "\n",
    "plotfig(np.array(Y1), np.array(epsilon1),'Y1','Residuals')"
   ]
  },
  {
   "cell_type": "code",
   "execution_count": 35,
   "metadata": {},
   "outputs": [
    {
     "data": {
      "image/png": "[encoded data removed]",
      "text/plain": [
       "<matplotlib.figure.Figure at 0x1258ef470>"
      ]
     },
     "metadata": {},
     "output_type": "display_data"
    }
   ],
   "source": [
    "plt.hist(epsilon1, bins=5000,facecolor = \"Blue\",normed=True)\n",
    "plt.xlim(-200,400)\n",
    "plt.xlabel('epsilon')\n",
    "plt.ylabel('Probability')\n",
    "plt.show()"
   ]
  },
  {
   "cell_type": "code",
   "execution_count": 12,
   "metadata": {},
   "outputs": [
    {
     "data": {
      "text/plain": [
       "[[-2.9062096075488895,\n",
       "  1.6774140933051827,\n",
       "  -0.0019616795418050457,\n",
       "  1.1609953422698676,\n",
       "  -0.001644794260253971,\n",
       "  -1.0357489859743971e-07]]"
      ]
     },
     "execution_count": 12,
     "metadata": {},
     "output_type": "execute_result"
    }
   ],
   "source": [
    "from sklearn.linear_model import LinearRegression\n",
    "lm = LinearRegression()\n",
    "model = lm.fit(X,Y)\n",
    "model.coef_.tolist()"
   ]
  },
  {
   "cell_type": "code",
   "execution_count": 13,
   "metadata": {},
   "outputs": [
    {
     "data": {
      "text/plain": [
       "0.02688452566793198"
      ]
     },
     "execution_count": 13,
     "metadata": {},
     "output_type": "execute_result"
    }
   ],
   "source": [
    "model.score(X, Y)"
   ]
  },
  {
   "cell_type": "code",
   "execution_count": 14,
   "metadata": {
    "collapsed": true
   },
   "outputs": [],
   "source": [
    "Y_pred = model.predict(X)"
   ]
  },
  {
   "cell_type": "code",
   "execution_count": 15,
   "metadata": {},
   "outputs": [
    {
     "data": {
      "text/plain": [
       "13391707382.638426"
      ]
     },
     "execution_count": 15,
     "metadata": {},
     "output_type": "execute_result"
    }
   ],
   "source": [
    "import util\n",
    "util.getSSE(Y,Y_pred)"
   ]
  },
  {
   "cell_type": "code",
   "execution_count": 16,
   "metadata": {},
   "outputs": [
    {
     "data": {
      "text/plain": [
       "541.54154634739461"
      ]
     },
     "execution_count": 16,
     "metadata": {},
     "output_type": "execute_result"
    }
   ],
   "source": [
    "util.getMAPE(Y,Y_pred)"
   ]
  },
  {
   "cell_type": "code",
   "execution_count": 20,
   "metadata": {
    "collapsed": true
   },
   "outputs": [],
   "source": [
    "def plotfig(X, Y, x_label, y_label):\n",
    "    #Plot figures for q5 partd\n",
    "    plt.scatter(X, Y)\n",
    "    plt.xlabel(x_label)\n",
    "    plt.ylabel(y_label)\n",
    "    plt.show()"
   ]
  },
  {
   "cell_type": "code",
   "execution_count": 24,
   "metadata": {},
   "outputs": [
    {
     "data": {
      "image/png": "[encoded data removed]",
      "text/plain": [
       "<matplotlib.figure.Figure at 0x1101b6080>"
      ]
     },
     "metadata": {},
     "output_type": "display_data"
    }
   ],
   "source": [
    "epsilon = Y-Y_pred\n",
    "\n",
    "plotfig(np.array(Y_pred), np.array(epsilon),'Y_pred','Residuals')"
   ]
  },
  {
   "cell_type": "code",
   "execution_count": 36,
   "metadata": {},
   "outputs": [
    {
     "data": {
      "image/png": "[encoded data removed]",
      "text/plain": [
       "<matplotlib.figure.Figure at 0x135e13668>"
      ]
     },
     "metadata": {},
     "output_type": "display_data"
    }
   ],
   "source": [
    "plt.hist(epsilon, bins=5000, facecolor = \"Blue\", normed=True)\n",
    "plt.xlim(-200,400)\n",
    "plt.xlabel('epsilon')\n",
    "plt.ylabel('Probability')\n",
    "plt.show()"
   ]
  },
  {
   "cell_type": "markdown",
   "metadata": {},
   "source": [
    "# PART B"
   ]
  },
  {
   "cell_type": "code",
   "execution_count": 37,
   "metadata": {
    "collapsed": true
   },
   "outputs": [],
   "source": [
    "X_new = X[:,0:2]"
   ]
  },
  {
   "cell_type": "code",
   "execution_count": 39,
   "metadata": {},
   "outputs": [
    {
     "data": {
      "text/plain": [
       "[[-3.6627637021239496, 3.610223476674924]]"
      ]
     },
     "execution_count": 39,
     "metadata": {},
     "output_type": "execute_result"
    }
   ],
   "source": [
    "lm = LinearRegression()\n",
    "model1 = lm.fit(X_new,Y)\n",
    "model1.coef_.tolist()"
   ]
  },
  {
   "cell_type": "code",
   "execution_count": 41,
   "metadata": {},
   "outputs": [
    {
     "data": {
      "text/plain": [
       "0.0010602549706654196"
      ]
     },
     "execution_count": 41,
     "metadata": {},
     "output_type": "execute_result"
    }
   ],
   "source": [
    "model1.score(X_new, Y)"
   ]
  },
  {
   "cell_type": "code",
   "execution_count": 43,
   "metadata": {},
   "outputs": [],
   "source": [
    "Y2 = model1.predict(X_new)"
   ]
  },
  {
   "cell_type": "code",
   "execution_count": 44,
   "metadata": {},
   "outputs": [
    {
     "data": {
      "text/plain": [
       "13747092828.312309"
      ]
     },
     "execution_count": 44,
     "metadata": {},
     "output_type": "execute_result"
    }
   ],
   "source": [
    "util.getSSE(Y,Y2)"
   ]
  },
  {
   "cell_type": "code",
   "execution_count": 45,
   "metadata": {},
   "outputs": [
    {
     "data": {
      "text/plain": [
       "599.5301776720288"
      ]
     },
     "execution_count": 45,
     "metadata": {},
     "output_type": "execute_result"
    }
   ],
   "source": [
    "util.getMAPE(Y,Y2)"
   ]
  },
  {
   "cell_type": "code",
   "execution_count": 46,
   "metadata": {},
   "outputs": [
    {
     "data": {
      "image/png": "[encoded data removed]",
      "text/plain": [
       "<matplotlib.figure.Figure at 0x133f92978>"
      ]
     },
     "metadata": {},
     "output_type": "display_data"
    }
   ],
   "source": [
    "epsilon2 = Y-Y2\n",
    "plotfig(np.array(Y2), np.array(epsilon2),'Y2','Residuals')"
   ]
  },
  {
   "cell_type": "code",
   "execution_count": 47,
   "metadata": {},
   "outputs": [
    {
     "data": {
      "image/png": "[encoded data removed]",
      "text/plain": [
       "<matplotlib.figure.Figure at 0x1287e7c50>"
      ]
     },
     "metadata": {},
     "output_type": "display_data"
    }
   ],
   "source": [
    "plt.hist(epsilon2, bins=5000, facecolor = \"Blue\", normed=True)\n",
    "plt.xlim(-200,400)\n",
    "plt.xlabel('epsilon')\n",
    "plt.ylabel('Probability')\n",
    "plt.show()"
   ]
  },
  {
   "cell_type": "code",
   "execution_count": 54,
   "metadata": {
    "collapsed": true
   },
   "outputs": [],
   "source": [
    "import scipy\n",
    "from scipy.stats import pearsonr\n",
    "import math\n",
    "import seaborn as sns"
   ]
  },
  {
   "cell_type": "code",
   "execution_count": 58,
   "metadata": {},
   "outputs": [],
   "source": [
    "X3 = X.copy()\n",
    "X3[:,0] = Y[:,0]\n",
    "ncols = 6\n",
    "cvalue = 0\n",
    "corrs = []\n",
    "for i in range(0, ncols):\n",
    "    data1 = X[:,i:i+1]\n",
    "    cvalue = cvalue + 1\n",
    "    \n",
    "    #get second column from dataset\n",
    "    for j in range(0, ncols):\n",
    "        data2 = X[:,j:j+1]\n",
    "        \n",
    "        #calculating pearson correlation\n",
    "        corr, n_corr = scipy.stats.pearsonr(data1,data2)\n",
    "        \n",
    "        #appending the correlation into array\n",
    "        corrs.append(corr)"
   ]
  },
  {
   "cell_type": "code",
   "execution_count": 61,
   "metadata": {},
   "outputs": [],
   "source": [
    "inv_colnames = ['CD','COC','CC','FC','LC', 'WC']\n",
    "colnames = ['WC', 'LC', 'FC', 'CC', 'COC', 'CD']"
   ]
  },
  {
   "cell_type": "code",
   "execution_count": 62,
   "metadata": {},
   "outputs": [
    {
     "data": {
      "image/png": "[encoded data removed]",
      "text/plain": [
       "<matplotlib.figure.Figure at 0x1168de978>"
      ]
     },
     "metadata": {},
     "output_type": "display_data"
    }
   ],
   "source": [
    "#creating heatmap using seaborn library\n",
    "a = np.array(corrs).reshape(cvalue,cvalue)\n",
    "ax = sns.heatmap(a)\n",
    "ax.set_yticklabels(inv_colnames)\n",
    "ax.set_xticklabels(colnames)\n",
    "plt.show()"
   ]
  },
  {
   "cell_type": "code",
   "execution_count": null,
   "metadata": {
    "collapsed": true
   },
   "outputs": [],
   "source": []
  }
 ],
 "metadata": {
  "kernelspec": {
   "display_name": "Python 3",
   "language": "python",
   "name": "python3"
  },
  "language_info": {
   "codemirror_mode": {
    "name": "ipython",
    "version": 3
   },
   "file_extension": ".py",
   "mimetype": "text/x-python",
   "name": "python",
   "nbconvert_exporter": "python",
   "pygments_lexer": "ipython3",
   "version": "3.6.1"
  }
 },
 "nbformat": 4,
 "nbformat_minor": 2
}
