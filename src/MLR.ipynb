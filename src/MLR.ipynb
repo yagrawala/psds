{
 "cells": [
  {
   "cell_type": "code",
   "execution_count": 129,
   "metadata": {
    "collapsed": true
   },
   "outputs": [],
   "source": [
    "import pandas as pd\n",
    "import numpy as np\n",
    "import matplotlib.pyplot as plt\n",
    "from datetime import datetime\n",
    "import time\n",
    "from sklearn.linear_model import LinearRegression\n",
    "import util\n",
    "import scipy\n",
    "from scipy.stats import pearsonr\n",
    "import math\n",
    "import seaborn as sns"
   ]
  },
  {
   "cell_type": "code",
   "execution_count": 130,
   "metadata": {
    "collapsed": true
   },
   "outputs": [],
   "source": [
    "repo_name = {}\n",
    "\n",
    "def read_data(filepath):\n",
    "    d = pd.read_csv(filepath)\n",
    "    return d\n",
    "\n",
    "def clean_data():\n",
    "    curr_millis = int(round(time.time()))\n",
    "\n",
    "    d = read_data(\"../data/MLR/watcher.csv\")\n",
    "    repo = d[\"repo_name\"]\n",
    "    watch_count = d[\"watch_count\"]\n",
    "    for i in range(len(repo)):\n",
    "            repo_name[repo[i]] = [watch_count[i], np.nan, np.nan, np.nan, np.nan, np.nan]\n",
    "\n",
    "    d = read_data(\"../data/MLR/lang_count.csv\")\n",
    "    repo = d[\"L_repo_name\"]\n",
    "    lang_count = d[\"L_lang_count\"]\n",
    "    lan_sum = 0\n",
    "    count = 0\n",
    "    for i in range(len(repo)):\n",
    "            if repo[i] in repo_name:\n",
    "                    repo_name[repo[i]][1] = lang_count[i]\n",
    "            if not pd.isnull(lang_count[i]):\n",
    "                lan_sum += lang_count[i]\n",
    "                count += 1\n",
    "    \n",
    "    mean_lang_count = lan_sum/count\n",
    "    print(mean_lang_count)\n",
    "    \n",
    "    file_sum = 0\n",
    "    count = 0\n",
    "    d = read_data(\"../data/MLR/files_count.csv\")\n",
    "    repo = d[\"S_repo_name\"]\n",
    "    file_count = d[\"C_files\"]\n",
    "    for i in range(len(repo)):\n",
    "            if not pd.isnull(file_count[i]):\n",
    "                    repo_name[repo[i]][2] = file_count[i]\n",
    "            if not pd.isnull(file_count[i]):\n",
    "                file_sum += file_count[i]\n",
    "                count += 1\n",
    "    \n",
    "    mean_file_count = file_sum/count\n",
    "    print(mean_file_count)\n",
    "\n",
    "    commiter_sum = 0\n",
    "    count = 0\n",
    "    d = read_data(\"../data/MLR/committer_count.csv\")\n",
    "    repo = d[\"S_repo_name\"]\n",
    "    committer_count = d[\"C_committer_count\"]\n",
    "    for i in range(len(repo)):\n",
    "            if not pd.isnull(committer_count[i]):\n",
    "                    repo_name[repo[i]][3] = committer_count[i]\n",
    "            if not pd.isnull(committer_count[i]):\n",
    "                commiter_sum += committer_count[i]\n",
    "                count += 1\n",
    "    \n",
    "    mean_committer_count = commiter_sum/count\n",
    "    print(mean_committer_count)\n",
    "\n",
    "    commit_sum = 0\n",
    "    count = 0\n",
    "    d = read_data(\"../data/MLR/commit_count.csv\")\n",
    "    repo = d[\"S_repo_name\"]\n",
    "    commit_count = d[\"C_comm_count\"]\n",
    "    for i in range(len(repo)):\n",
    "            if not pd.isnull(commit_count[i]):\n",
    "                    repo_name[repo[i]][4] = commit_count[i]\n",
    "            if not pd.isnull(commit_count[i]):\n",
    "                commit_sum += commit_count[i]\n",
    "                count += 1\n",
    "    \n",
    "    mean_commit_count = commit_sum/count\n",
    "    print(mean_commit_count)\n",
    "\n",
    "    d = read_data(\"../data/MLR/committer_date.csv\")\n",
    "    repo = d[\"S_repo_name\"]\n",
    "    commit_date = d[\"C_commit_date\"]\n",
    "    for i in range(len(repo)):\n",
    "            if not pd.isnull(commit_date[i]):\n",
    "                    dt_obj = datetime.strptime(commit_date[i][:-4],'%Y-%m-%d %H:%M:%S')\n",
    "                    millisec = dt_obj.timestamp()\n",
    "                    repo_name[repo[i]][5] = curr_millis - millisec\n",
    "                    \n",
    "    repo_name1 = repo_name.copy()\n",
    "    print(len(repo_name1))\n",
    "    for i in repo_name.keys():\n",
    "            if pd.isnull(repo_name[i][5]):\n",
    "                    del repo_name1[i]\n",
    "\n",
    "    print(len(repo_name1))\n",
    "    return (repo_name1, mean_lang_count, mean_file_count, mean_committer_count, mean_commit_count)"
   ]
  },
  {
   "cell_type": "code",
   "execution_count": 131,
   "metadata": {},
   "outputs": [
    {
     "name": "stdout",
     "output_type": "stream",
     "text": [
      "2.5628183462\n",
      "325.597920902\n",
      "11.4284996691\n",
      "849.54371336\n",
      "400000\n",
      "169216\n"
     ]
    }
   ],
   "source": [
    "(repo_name1, mean_lang_count, mean_file_count, mean_committer_count, mean_commit_count) = clean_data()"
   ]
  },
  {
   "cell_type": "code",
   "execution_count": 132,
   "metadata": {
    "collapsed": true
   },
   "outputs": [],
   "source": [
    "df = pd.DataFrame.from_dict(repo_name1, orient='index')\n",
    "df.columns = [\"watch_count\", \"lang_count\", \"files_count\", \"committer_count\", \"commit_count\", \"commit_date\"]\n",
    "df.to_csv(\"../data/MLR/Final.csv\")"
   ]
  },
  {
   "cell_type": "code",
   "execution_count": 133,
   "metadata": {
    "collapsed": true
   },
   "outputs": [],
   "source": [
    "data = pd.read_csv(\"../data/MLR/Final.csv\")"
   ]
  },
  {
   "cell_type": "code",
   "execution_count": 197,
   "metadata": {
    "collapsed": true
   },
   "outputs": [],
   "source": [
    "def norm_X(X):\n",
    "    minimum = util.getMin(X)\n",
    "    maximum = util.getMax(X)\n",
    "    for i in range(0,len(X)):\n",
    "        X[i] = (X[i] - minimum)/(maximum - minimum)\n",
    "    return X"
   ]
  },
  {
   "cell_type": "code",
   "execution_count": 251,
   "metadata": {
    "collapsed": true
   },
   "outputs": [],
   "source": [
    "LC = data['lang_count']\n",
    "FC = data['files_count']\n",
    "CC = data['committer_count']\n",
    "COC = data['commit_count']\n",
    "CD = data['commit_date']\n",
    "WC = data['watch_count']\n",
    "O = np.ones((len(FC),1))\n",
    "\n",
    "#creating the x matix with the two features and excluding beta_0\n",
    "X = np.zeros((len(FC),6))\n",
    "X[:,0] = list(O)[:]\n",
    "X[:,1] = LC[:]\n",
    "X[:,2] = FC[:]\n",
    "X[:,3] = CC[:]\n",
    "X[:,4] = COC[:]\n",
    "X[:,5] = CD[:]\n",
    "\n",
    "null_val_index = np.argwhere(np.isnan(X))\n",
    "for i in range(0,len(null_val_index)):\n",
    "    if null_val_index[i][1] == 1:\n",
    "        X[null_val_index[i][0]] = mean_lang_count\n",
    "    elif null_val_index[i][1] == 2:\n",
    "        X[null_val_index[i][0]] = mean_file_count\n",
    "    elif null_val_index[i][1] == 3:  \n",
    "        X[null_val_index[i][0]] = mean_committer_count\n",
    "    elif null_val_index[i][1] == 4:\n",
    "        X[null_val_index[i][0]] = mean_commit_count\n",
    "\n",
    "X1 = norm_X(X[:,1])\n",
    "X2 = norm_X(X[:,2])\n",
    "X3 = norm_X(X[:,3])\n",
    "X4 = norm_X(X[:,4])\n",
    "X5 = norm_X(X[:,5])\n",
    "\n",
    "X[:,1] = X1[:]\n",
    "X[:,2] = X2[:]\n",
    "X[:,3] = X3[:]\n",
    "X[:,4] = X4[:]\n",
    "X[:,5] = X5[:]\n",
    "\n",
    "Y = np.zeros((len(WC),1))\n",
    "Y[:,0] = WC[:]"
   ]
  },
  {
   "cell_type": "code",
   "execution_count": 252,
   "metadata": {},
   "outputs": [
    {
     "name": "stdout",
     "output_type": "stream",
     "text": [
      "beta = [[-2.9064515993478106, 546.1625410900758, -1642.255338693637, 7057.690685815336, -1308.9502994450627, -158.04270962083646]]\n",
      "r2 = 0.0268845256679\n"
     ]
    }
   ],
   "source": [
    "lm = LinearRegression()\n",
    "model = lm.fit(X,Y)\n",
    "beta = model.coef_.tolist()\n",
    "Y_pred = model.predict(X)\n",
    "r2 = model.score(X, Y)\n",
    "print(\"beta = \" + str(beta))\n",
    "print(\"r2 = \" + str(r2))"
   ]
  },
  {
   "cell_type": "code",
   "execution_count": 253,
   "metadata": {},
   "outputs": [
    {
     "name": "stdout",
     "output_type": "stream",
     "text": [
      "SSE = 13391707382.6\n",
      "MAPE = 541.541546361\n"
     ]
    }
   ],
   "source": [
    "print(\"SSE = \" + str(util.getSSE(Y,Y_pred)))\n",
    "print(\"MAPE = \" + str(util.getMAPE(Y,Y_pred)))"
   ]
  },
  {
   "cell_type": "code",
   "execution_count": 225,
   "metadata": {
    "collapsed": true
   },
   "outputs": [],
   "source": [
    "def plotfig(X, Y, x_label, y_label):\n",
    "    plt.figure(figsize=(15,10))\n",
    "    plt.scatter(X, Y, s=5,alpha=1)\n",
    "    plt.xlabel(x_label,fontsize=18)\n",
    "    plt.ylabel(y_label,fontsize=18)\n",
    "#     plt.ylim(-1000,4000)\n",
    "#     plt.xlim(-500,1000)\n",
    "    plt.show()"
   ]
  },
  {
   "cell_type": "code",
   "execution_count": 226,
   "metadata": {},
   "outputs": [
    {
     "data": {
      "image/png": "[encoded data removed]",
      "text/plain": [
       "<matplotlib.figure.Figure at 0x12147df98>"
      ]
     },
     "metadata": {},
     "output_type": "display_data"
    }
   ],
   "source": [
    "epsilon = Y-Y_pred\n",
    "plotfig(np.array(Y_pred), np.array(epsilon),'Predicted values of Watch count','Residuals')"
   ]
  },
  {
   "cell_type": "code",
   "execution_count": 227,
   "metadata": {},
   "outputs": [
    {
     "data": {
      "image/png": "[encoded data removed]",
      "text/plain": [
       "<matplotlib.figure.Figure at 0x12588b7f0>"
      ]
     },
     "metadata": {},
     "output_type": "display_data"
    }
   ],
   "source": [
    "plt.hist(epsilon, bins=5000, facecolor = \"Blue\", normed=True)\n",
    "plt.xlim(-200,400)\n",
    "plt.xlabel('Epsilon of Watch count',fontsize=18)\n",
    "plt.ylabel('Probability',fontsize=18)\n",
    "plt.show()"
   ]
  },
  {
   "cell_type": "markdown",
   "metadata": {},
   "source": [
    "# PART B"
   ]
  },
  {
   "cell_type": "code",
   "execution_count": 282,
   "metadata": {
    "collapsed": true
   },
   "outputs": [],
   "source": [
    "XD = np.zeros((len(CC),2))\n",
    "XD[:,0] = list(O)[:]\n",
    "XD[:,1] = CC[:]\n",
    "XC = XD.copy()\n",
    "\n",
    "CC_val = sorted(XC[:,1])\n",
    "QR1 = CC_val[42304]\n",
    "QR2 = CC_val[42304*3]\n",
    "\n",
    "IQR = QR2 - QR1\n",
    "R1 = QR1 - 1.5*IQR\n",
    "R2 = QR2 + 1.5*IQR\n",
    "\n",
    "ind = []\n",
    "for i in range(0,len(XD)):\n",
    "    if XD[i][1] < R1 or XD[i][1] > R2:\n",
    "        ind.append(i)\n",
    "\n",
    "new_x1 = np.delete(XD[:,0], ind)\n",
    "new_x2 = np.delete(XD[:,1], ind)"
   ]
  },
  {
   "cell_type": "code",
   "execution_count": 283,
   "metadata": {
    "collapsed": true
   },
   "outputs": [],
   "source": [
    "Y1 = np.zeros((len(WC),1))\n",
    "Y1[:,0] = WC[:]\n",
    "Y_new = np.delete(Y1[:,0], ind)"
   ]
  },
  {
   "cell_type": "code",
   "execution_count": 284,
   "metadata": {
    "collapsed": true
   },
   "outputs": [],
   "source": [
    "WC_val = sorted(Y_new)\n",
    "QR1Y = WC_val[37923]\n",
    "QR2Y = WC_val[113767]\n",
    "\n",
    "IQRY = QR2Y - QR1Y\n",
    "R1Y = QR1Y - 1.5*IQRY\n",
    "R2Y = QR2Y + 1.5*IQRY\n",
    "\n",
    "indY = []\n",
    "for i in range(0,len(Y1)):\n",
    "    if Y1[i][0] < R1Y or Y1[i][0] > R2Y:\n",
    "        indY.append(i)"
   ]
  },
  {
   "cell_type": "code",
   "execution_count": 285,
   "metadata": {
    "collapsed": true
   },
   "outputs": [],
   "source": [
    "Y_new1 = np.delete(Y_new, indY)\n",
    "Y3 = np.zeros((len(Y_new1),1))\n",
    "Y3[:,0] = Y_new1[:]"
   ]
  },
  {
   "cell_type": "code",
   "execution_count": 286,
   "metadata": {
    "collapsed": true
   },
   "outputs": [],
   "source": [
    "new_x3 = np.delete(new_x1, indY)\n",
    "new_x4 = np.delete(new_x2, indY)\n",
    "XB = np.zeros((len(new_x4),2))\n",
    "XB[:,0] = new_x3[:]\n",
    "XB[:,1] = new_x4[:]\n",
    "\n",
    "X1 = norm_X(XB[:,1])\n",
    "XB[:,1] = X1[:]"
   ]
  },
  {
   "cell_type": "code",
   "execution_count": 289,
   "metadata": {
    "collapsed": true
   },
   "outputs": [],
   "source": [
    "def pt(X, Y, Y_pred):\n",
    "    X = np.array(X)\n",
    "    Y = np.array(Y)\n",
    "    Y_pred = np.array(Y_pred)\n",
    "\n",
    "    plt.scatter(X, Y, s=10, c=\"blue\", alpha=1, label=\"Actual Commit count\")\n",
    "    plt.plot(X, Y_pred, color='orange', linestyle='solid', label=\"Regression Fit\")\n",
    "    plt.xlabel('Commit count')\n",
    "    plt.ylabel('Watch count')\n",
    "    plt.legend()\n",
    "    plt.show()"
   ]
  },
  {
   "cell_type": "code",
   "execution_count": 290,
   "metadata": {},
   "outputs": [
    {
     "name": "stdout",
     "output_type": "stream",
     "text": [
      "beta = [[0.0, 3.1621775417434006]]\n",
      "r2 = 0.0342134254265\n"
     ]
    }
   ],
   "source": [
    "lm = LinearRegression()\n",
    "model1 = lm.fit(XB,Y3)\n",
    "betaB = model1.coef_.tolist()\n",
    "r2B = model1.score(XB, Y3)\n",
    "Y_predB = model1.predict(XB)\n",
    "print(\"beta = \" + str(betaB))\n",
    "print(\"r2 = \" + str(r2B))"
   ]
  },
  {
   "cell_type": "code",
   "execution_count": 292,
   "metadata": {},
   "outputs": [
    {
     "name": "stdout",
     "output_type": "stream",
     "text": [
      "SSE = 1523332.28735\n",
      "MAPE = 65.2408246982\n"
     ]
    }
   ],
   "source": [
    "print(\"SSE = \" + str(util.getSSE(Y3,Y_predB)))\n",
    "print(\"MAPE = \" + str(util.getMAPE(Y3,Y_predB)))"
   ]
  },
  {
   "cell_type": "code",
   "execution_count": 279,
   "metadata": {},
   "outputs": [
    {
     "data": {
      "image/png": "[encoded data removed]",
      "text/plain": [
       "<matplotlib.figure.Figure at 0x1260884a8>"
      ]
     },
     "metadata": {},
     "output_type": "display_data"
    }
   ],
   "source": [
    "epsilonB = Y3-Y_predB\n",
    "plt.hist(epsilonB, bins=1000, facecolor = \"Blue\", normed=True)\n",
    "plt.xlim(-100,200)\n",
    "plt.xlabel('Epsilon of Watch count',fontsize=18)\n",
    "plt.ylabel('Probability',fontsize=18)\n",
    "plt.show()"
   ]
  },
  {
   "cell_type": "code",
   "execution_count": 308,
   "metadata": {
    "collapsed": true
   },
   "outputs": [],
   "source": [
    "X3 = X.copy()\n",
    "X3[:,0] = Y[:,0]\n",
    "ncols = 6\n",
    "cvalue = 0\n",
    "corrs = []\n",
    "for i in range(0, ncols):\n",
    "    data1 = X3[:,i:i+1]\n",
    "    cvalue = cvalue + 1\n",
    "    for j in range(0, ncols):\n",
    "        data2 = X3[:,j:j+1]\n",
    "        corr, n_corr = scipy.stats.pearsonr(data1,data2)\n",
    "        corrs.append(corr)"
   ]
  },
  {
   "cell_type": "code",
   "execution_count": 309,
   "metadata": {
    "collapsed": true
   },
   "outputs": [],
   "source": [
    "inv_colnames = ['Age of Repository = AR','Committers Count = COC','Commit Count = CC','Files Count = FC','Language Count = LC', 'Watchers Count = WC']\n",
    "colnames = ['WC', 'LC', 'FC', 'CC', 'COC', 'AR']"
   ]
  },
  {
   "cell_type": "code",
   "execution_count": 310,
   "metadata": {},
   "outputs": [
    {
     "data": {
      "image/png": "[encoded data removed]",
      "text/plain": [
       "<matplotlib.figure.Figure at 0x1287a3780>"
      ]
     },
     "metadata": {},
     "output_type": "display_data"
    }
   ],
   "source": [
    "#creating heatmap using seaborn library\n",
    "a = np.array(corrs).reshape(cvalue,cvalue)\n",
    "ax = sns.heatmap(a,annot=True)\n",
    "ax.set_yticklabels(inv_colnames, rotation=0)\n",
    "ax.set_xticklabels(colnames)\n",
    "plt.show()"
   ]
  },
  {
   "cell_type": "code",
   "execution_count": null,
   "metadata": {
    "collapsed": true
   },
   "outputs": [],
   "source": []
  }
 ],
 "metadata": {
  "kernelspec": {
   "display_name": "Python 3",
   "language": "python",
   "name": "python3"
  },
  "language_info": {
   "codemirror_mode": {
    "name": "ipython",
    "version": 3
   },
   "file_extension": ".py",
   "mimetype": "text/x-python",
   "name": "python",
   "nbconvert_exporter": "python",
   "pygments_lexer": "ipython3",
   "version": "3.6.1"
  }
 },
 "nbformat": 4,
 "nbformat_minor": 2
}
