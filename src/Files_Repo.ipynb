{
 "cells": [
  {
   "cell_type": "code",
   "execution_count": 1,
   "metadata": {
    "collapsed": true
   },
   "outputs": [],
   "source": [
    "import numpy as np\n",
    "import matplotlib.pyplot as plt\n",
    "import csv\n",
    "import pandas as pd\n",
    "import util\n",
    "from scipy.stats import expon"
   ]
  },
  {
   "cell_type": "code",
   "execution_count": 2,
   "metadata": {
    "collapsed": true
   },
   "outputs": [],
   "source": [
    "data = pd.read_csv(\"../data/files_data/files.csv\")\n",
    "X = data['f0_']"
   ]
  },
  {
   "cell_type": "code",
   "execution_count": 4,
   "metadata": {},
   "outputs": [],
   "source": [
    "X = sorted(X)\n",
    "Q1 = X[2500]\n",
    "Q3 = X[7500]\n",
    "IQR = Q3-Q1\n",
    "R1 = Q1 - 1.5*IQR\n",
    "R2 = Q3 + 1.5*IQR\n",
    "X2 = []\n",
    "for i in range(0,len(X)):\n",
    "    if X[i] > R1 and X[i] < R2:\n",
    "        X2.append(X[i])\n",
    "X = X2.copy()"
   ]
  },
  {
   "cell_type": "code",
   "execution_count": 5,
   "metadata": {
    "collapsed": true
   },
   "outputs": [],
   "source": [
    "X_dict = dict()\n",
    "for i in range(0,len(X)):\n",
    "    if X[i] in X_dict:\n",
    "        X_dict[X[i]] += 1\n",
    "    else:\n",
    "        X_dict[X[i]] = 1\n",
    "\n",
    "SortX = sorted(X_dict.items(), key=lambda s: s[0])"
   ]
  },
  {
   "cell_type": "code",
   "execution_count": 6,
   "metadata": {
    "collapsed": true
   },
   "outputs": [],
   "source": [
    "x_vals = []\n",
    "y_vals = []\n",
    "for i in range(0,len(SortX)):\n",
    "    x_vals.append(SortX[i][0])\n",
    "    y_vals.append(SortX[i][1]/len(X))"
   ]
  },
  {
   "cell_type": "code",
   "execution_count": 12,
   "metadata": {},
   "outputs": [
    {
     "data": {
      "image/png": "[encoded data removed]",
      "text/plain": [
       "<matplotlib.figure.Figure at 0x116764860>"
      ]
     },
     "metadata": {},
     "output_type": "display_data"
    }
   ],
   "source": [
    "y_pos = np.arange(len(x_vals))\n",
    "plt.figure(figsize=(20,8))\n",
    "plt.bar(y_pos, y_vals, align='center')\n",
    "# plt.xticks(y_pos, x_vals)\n",
    "plt.ylabel('Probability', fontsize=18)\n",
    "plt.xlabel('Files Count', fontsize=18)\n",
    "plt.title('PDF of Files Count', fontsize=18)\n",
    "plt.show()"
   ]
  },
  {
   "cell_type": "code",
   "execution_count": 49,
   "metadata": {
    "collapsed": true
   },
   "outputs": [],
   "source": [
    "X_modified = X.copy()\n",
    "for pair in SortX:\n",
    "    if pair[0] > 5:\n",
    "        for i in range(0, pair[1]):\n",
    "            X_modified.append( 6 - pair[0] )"
   ]
  },
  {
   "cell_type": "code",
   "execution_count": 52,
   "metadata": {},
   "outputs": [
    {
     "name": "stdout",
     "output_type": "stream",
     "text": [
      "\n",
      "==== Wald's Test for 1 Population ====\n",
      "3.025606469\n",
      "se     = 0.4910572448993681\n",
      "w      = 0.0521455884597\n",
      "thres  = 1.96\n",
      "result = Passed\n",
      "======================================\n",
      "\n"
     ]
    },
    {
     "data": {
      "text/plain": [
       "True"
      ]
     },
     "execution_count": 52,
     "metadata": {},
     "output_type": "execute_result"
    }
   ],
   "source": [
    "util.walds_test_1_population(X_modified, 3, 1.96)"
   ]
  },
  {
   "cell_type": "code",
   "execution_count": 54,
   "metadata": {},
   "outputs": [
    {
     "data": {
      "text/plain": [
       "2135.6678034553115"
      ]
     },
     "execution_count": 54,
     "metadata": {},
     "output_type": "execute_result"
    }
   ],
   "source": [
    "util.getVar(X)"
   ]
  },
  {
   "cell_type": "code",
   "execution_count": null,
   "metadata": {
    "collapsed": true
   },
   "outputs": [],
   "source": []
  }
 ],
 "metadata": {
  "kernelspec": {
   "display_name": "Python 3",
   "language": "python",
   "name": "python3"
  },
  "language_info": {
   "codemirror_mode": {
    "name": "ipython",
    "version": 3
   },
   "file_extension": ".py",
   "mimetype": "text/x-python",
   "name": "python",
   "nbconvert_exporter": "python",
   "pygments_lexer": "ipython3",
   "version": "3.6.1"
  }
 },
 "nbformat": 4,
 "nbformat_minor": 2
}
