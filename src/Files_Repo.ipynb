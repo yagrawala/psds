{
 "cells": [
  {
   "cell_type": "code",
   "execution_count": 1,
   "metadata": {
    "collapsed": true
   },
   "outputs": [],
   "source": [
    "import numpy as np\n",
    "import matplotlib.pyplot as plt\n",
    "import csv\n",
    "import pandas as pd\n",
    "import util"
   ]
  },
  {
   "cell_type": "code",
   "execution_count": 2,
   "metadata": {
    "collapsed": true
   },
   "outputs": [],
   "source": [
    "data = pd.read_csv(\"../data/files_data/files.csv\")\n",
    "X = data['f0_']"
   ]
  },
  {
   "cell_type": "code",
   "execution_count": 3,
   "metadata": {
    "collapsed": true
   },
   "outputs": [],
   "source": [
    "X_dict = dict()\n",
    "for i in range(0,len(X)):\n",
    "    if X[i] in X_dict:\n",
    "        X_dict[X[i]] += 1\n",
    "    else:\n",
    "        X_dict[X[i]] = 1\n",
    "\n",
    "SortX = sorted(X_dict.items(), key=lambda s: s[0])"
   ]
  },
  {
   "cell_type": "code",
   "execution_count": 4,
   "metadata": {
    "collapsed": true
   },
   "outputs": [],
   "source": [
    "x_vals = []\n",
    "y_vals = []\n",
    "for i in range(0,len(SortX)):\n",
    "    x_vals.append(SortX[i][0])\n",
    "    y_vals.append(SortX[i][1])"
   ]
  },
  {
   "cell_type": "code",
   "execution_count": 5,
   "metadata": {},
   "outputs": [
    {
     "data": {
      "image/png": "[encoded data removed]",
      "text/plain": [
       "<matplotlib.figure.Figure at 0x11a43c1d0>"
      ]
     },
     "metadata": {},
     "output_type": "display_data"
    }
   ],
   "source": [
    "y_pos = np.arange(len(x_vals))\n",
    "plt.figure(figsize=(20,8))\n",
    "plt.bar(y_pos, y_vals, align='center', alpha=0.5)\n",
    "plt.xticks(y_pos, x_vals)\n",
    "plt.ylabel('No of Repos')\n",
    "plt.xlabel('Files Count')\n",
    "plt.title('No of repos for a file count')\n",
    "plt.ylim(0,500)\n",
    "plt.xlim(0,100)\n",
    "plt.show()"
   ]
  },
  {
   "cell_type": "code",
   "execution_count": 18,
   "metadata": {},
   "outputs": [
    {
     "name": "stdout",
     "output_type": "stream",
     "text": [
      "\n",
      "==== Wald's Test for 1 Population ====\n",
      "se     = 1410.9987077790963\n",
      "w      = 3.7953132087\n",
      "thres  = 3.92\n",
      "result = Passed\n",
      "======================================\n",
      "\n"
     ]
    },
    {
     "data": {
      "text/plain": [
       "True"
      ]
     },
     "execution_count": 18,
     "metadata": {},
     "output_type": "execute_result"
    }
   ],
   "source": [
    "util.walds_test_1_population(x_vals, 3, 3.92)"
   ]
  },
  {
   "cell_type": "code",
   "execution_count": null,
   "metadata": {
    "collapsed": true
   },
   "outputs": [],
   "source": []
  }
 ],
 "metadata": {
  "kernelspec": {
   "display_name": "Python 3",
   "language": "python",
   "name": "python3"
  },
  "language_info": {
   "codemirror_mode": {
    "name": "ipython",
    "version": 3
   },
   "file_extension": ".py",
   "mimetype": "text/x-python",
   "name": "python",
   "nbconvert_exporter": "python",
   "pygments_lexer": "ipython3",
   "version": "3.6.1"
  }
 },
 "nbformat": 4,
 "nbformat_minor": 2
}
