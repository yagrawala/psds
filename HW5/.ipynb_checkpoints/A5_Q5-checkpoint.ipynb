{
 "cells": [
  {
   "cell_type": "code",
   "execution_count": 1,
   "metadata": {
    "collapsed": true
   },
   "outputs": [],
   "source": [
    "import pandas as pd\n",
    "import numpy as np\n",
    "import matplotlib.pyplot as plt"
   ]
  },
  {
   "cell_type": "code",
   "execution_count": 66,
   "metadata": {},
   "outputs": [],
   "source": [
    "def read_data(filepath, columns):\n",
    "    d = pd.read_csv(filepath, header=0, names=columns)\n",
    "    return d\n",
    "\n",
    "def q5_parta(filepath=\"DATAT/2016.csv\"):\n",
    "    d = read_data(filepath, ['Rk','Team','G','MP','FG','FGA','FG%','3P','3PA','3P%','2P','2PA','2P%','FT','FTA','FT%','ORB','DRB','TRB','AST','STL','BLK','TOV','PF','PTS'])\n",
    "    FG = d['FG%']\n",
    "    TRB = d['TRB']\n",
    "    PTS = d['PTS']\n",
    "    TRB = TRB[:-1]\n",
    "    FG = FG[:-1]\n",
    "    PTS = PTS[:-1]\n",
    "\n",
    "    X = np.zeros((len(FG),2))\n",
    "    X[:,0] = FG[:]\n",
    "    X[:,1] = TRB[:]\n",
    "    \n",
    "    Y = np.zeros((len(PTS),1))\n",
    "    Y[:,0] = PTS[:] \n",
    "\n",
    "    beta = np.matmul(np.linalg.inv(np.matmul(np.matrix.transpose(X),X)), np.matmul(np.matrix.transpose(X), Y))\n",
    "    return beta\n",
    "\n",
    "def q5_partb():\n",
    "    d = read_data(\"DATAT/2016.csv\", ['Rk','Team','G','MP','FG','FGA','FG%','3P','3PA','3P%','2P','2PA','2P%','FT','FTA','FT%','ORB','DRB','TRB','AST','STL','BLK','TOV','PF','PTS'])\n",
    "    FG = d['FG%']\n",
    "    TRB = d['TRB']\n",
    "    PTS = d['PTS']\n",
    "    ORB = d['ORB']\n",
    "    DRB = d['DRB']\n",
    "\n",
    "    TRB = TRB[:-1]\n",
    "    FG = FG[:-1]\n",
    "    PTS = PTS[:-1]\n",
    "    ORB = ORB[:-1]\n",
    "    DRB = DRB[:-1]\n",
    "\n",
    "    X = np.zeros((len(FG),4))\n",
    "    X[:,0] = FG[:]\n",
    "    X[:,1] = TRB[:] \n",
    "    X[:,2] = ORB[:]\n",
    "    X[:,3] = DRB[:]\n",
    "    \n",
    "    Y = np.zeros((len(PTS),1))\n",
    "    Y[:,0] = PTS[:] \n",
    "\n",
    "    beta = np.matmul(np.linalg.inv(np.matmul(np.matrix.transpose(X),X)), np.matmul(np.matrix.transpose(X), Y))\n",
    "    return beta\n",
    "\n",
    "def computeSSE(Y, Y_pred):\n",
    "    error = np.matmul(np.matrix.transpose(Y-Y_pred), Y-Y_pred)\n",
    "    sum_error = np.sum(error)\n",
    "    return sum_error\n",
    "\n",
    "def computeMAPE(Y, Y_pred):\n",
    "    MAPE_val = 0\n",
    "    count = 0\n",
    "    for i in range(0,len(Y)):\n",
    "        if Y[i] != 0:\n",
    "            map_val = abs((Y[i][0] - Y_pred[i][0])/Y[i][0])\n",
    "            MAPE_val += map_val\n",
    "            count += 1\n",
    "\n",
    "    MAPE = (MAPE_val*100/count)\n",
    "    return MAPE\n",
    "\n",
    "def q5_parta_beta0(filepath=\"DATAT/2016.csv\"):\n",
    "    d = read_data(filepath, ['Rk','Team','G','MP','FG','FGA','FG%','3P','3PA','3P%','2P','2PA','2P%','FT','FTA','FT%','ORB','DRB','TRB','AST','STL','BLK','TOV','PF','PTS'])\n",
    "    FG = d['FG%']\n",
    "    TRB = d['TRB']\n",
    "    PTS = d['PTS']\n",
    "    TRB = TRB[:-1]\n",
    "    FG = FG[:-1]\n",
    "    PTS = PTS[:-1]\n",
    "    O = np.ones((len(FG),1))\n",
    "\n",
    "    X = np.zeros((len(FG),3))\n",
    "    X[:,0] = list(O)[:]\n",
    "    X[:,1] = FG[:]\n",
    "    X[:,2] = TRB[:] \n",
    "\n",
    "    Y = np.zeros((len(PTS),1))\n",
    "    Y[:,0] = PTS[:] \n",
    "\n",
    "    beta = np.matmul(np.linalg.inv(np.matmul(np.matrix.transpose(X),X)), np.matmul(np.matrix.transpose(X), Y))\n",
    "\n",
    "    return beta\n",
    "\n",
    "def q5_partc(filepath1, filepath2):\n",
    "    beta = q5_parta_beta0(filepath1)\n",
    "\n",
    "    d = read_data(filepath2, ['Rk','Team','G','MP','FG','FGA','FG%','3P','3PA','3P%','2P','2PA','2P%','FT','FTA','FT%','ORB','DRB','TRB','AST','STL','BLK','TOV','PF','PTS'])\n",
    "    FG = d['FG%']\n",
    "    TRB = d['TRB']\n",
    "    PTS = d['PTS']\n",
    "    TRB = TRB[:-1]\n",
    "    FG = FG[:-1]\n",
    "    PTS = PTS[:-1]\n",
    "    O = np.ones((len(FG),1))\n",
    "\n",
    "    X = np.zeros((len(FG),3))\n",
    "    X[:,0] = list(O)[:]\n",
    "    X[:,1] = FG[:]\n",
    "    X[:,2] = TRB[:]\n",
    "    Y = np.zeros((len(PTS),1))\n",
    "    Y[:,0] = PTS[:]\n",
    "\n",
    "    beta_array = np.ones((len(beta),1))\n",
    "    beta_array = beta[:]\n",
    "    Y_pred = np.matmul(X, beta_array)\n",
    "\n",
    "    sse = computeSSE(Y, Y_pred)\n",
    "    mape = computeMAPE(Y, Y_pred)\n",
    "\n",
    "    return sse, mape, Y, Y_pred\n",
    "\n",
    "def plotfig(X, Y, x_label, y_label):\n",
    "    plt.scatter(X, Y)\n",
    "    plt.xlabel(x_label)\n",
    "    plt.ylabel(y_label)\n",
    "    plt.show()\n",
    "\n",
    "def q5_partd(filepath1, filepath2):\n",
    "    sse, mape, Y, Y_pred = q5_partc(filepath1, filepath2)\n",
    "    epsilon = Y-Y_pred\n",
    "    plotfig(np.array(Y_pred), np.array(epsilon),'Y_pred','Residuals')\n",
    "\n",
    "def findFnHat(inputs):\n",
    "    fnHat = []\n",
    "    for i in inputs:\n",
    "        count = 0\n",
    "        for j in inputs:\n",
    "            if j<i:\n",
    "                count+=1\n",
    "        fnHat.append(float(count)/len(inputs))\n",
    "    return fnHat\n",
    "\n",
    "def findPnHat(inputs):\n",
    "    fnHat = []\n",
    "    for i in inputs:\n",
    "        count = 0\n",
    "        for j in inputs:\n",
    "            if j==i:\n",
    "                count+=1\n",
    "        fnHat.append(float(count)/len(inputs))\n",
    "    return fnHat\n",
    "\n",
    "def q5_parte(filepath1, filepath2):\n",
    "    sse, mape, Y, Y_pred = q5_partc(filepath1, filepath2)\n",
    "    epsilon = Y-Y_pred\n",
    "    plt.hist(epsilon, facecolor = \"Blue\",normed=True)\n",
    "    plt.xlabel('epsilon')\n",
    "    plt.ylabel('Probability')\n",
    "    plt.show()"
   ]
  },
  {
   "cell_type": "markdown",
   "metadata": {},
   "source": [
    "# PART A"
   ]
  },
  {
   "cell_type": "code",
   "execution_count": 49,
   "metadata": {},
   "outputs": [
    {
     "name": "stdout",
     "output_type": "stream",
     "text": [
      "Beta = [[ 129.63595432]\n",
      " [   1.00665119]]\n"
     ]
    }
   ],
   "source": [
    "Beta = q5_parta()\n",
    "print(\"Beta = \" + str(Beta))"
   ]
  },
  {
   "cell_type": "markdown",
   "metadata": {},
   "source": [
    "Contribution of TRB to total points is much lesser than that of FG% since Beta value corresponding to FG% is much higher than TRB."
   ]
  },
  {
   "cell_type": "markdown",
   "metadata": {},
   "source": [
    "# PART B"
   ]
  },
  {
   "cell_type": "code",
   "execution_count": 50,
   "metadata": {},
   "outputs": [
    {
     "name": "stdout",
     "output_type": "stream",
     "text": [
      "Beta = [[ 120.34948162]\n",
      " [  -0.2560834 ]\n",
      " [   0.98249996]\n",
      " [   1.47555233]]\n"
     ]
    }
   ],
   "source": [
    "Beta = q5_partb()\n",
    "print(\"Beta = \" + str(Beta))"
   ]
  },
  {
   "cell_type": "markdown",
   "metadata": {},
   "source": [
    "Beta value we got for TRB is negative which means there is a negative correlation between TRB and PTS. It means that an increase in the predictor variable results in a decrement in the predicted variable."
   ]
  },
  {
   "cell_type": "markdown",
   "metadata": {},
   "source": [
    "# PART C"
   ]
  },
  {
   "cell_type": "code",
   "execution_count": 51,
   "metadata": {},
   "outputs": [
    {
     "name": "stdout",
     "output_type": "stream",
     "text": [
      "SSE = 429.075524116\n",
      "MAPE = 2.78530128836\n"
     ]
    }
   ],
   "source": [
    "sse, mape, Y, Y_pred = q5_partc(\"DATAT/2016.csv\", \"DATAT/2017.csv\")\n",
    "print(\"SSE = \" + str(sse))\n",
    "print(\"MAPE = \" + str(mape))"
   ]
  },
  {
   "cell_type": "code",
   "execution_count": 52,
   "metadata": {},
   "outputs": [
    {
     "name": "stdout",
     "output_type": "stream",
     "text": [
      "SSE = 513.072394278\n",
      "MAPE = 3.24174912096\n"
     ]
    }
   ],
   "source": [
    "sse, mape, Y, Y_pred = q5_partc(\"DATAT/2015_2016.csv\", \"DATAT/2017.csv\")\n",
    "print(\"SSE = \" + str(sse))\n",
    "print(\"MAPE = \" + str(mape))"
   ]
  },
  {
   "cell_type": "code",
   "execution_count": 53,
   "metadata": {},
   "outputs": [
    {
     "name": "stdout",
     "output_type": "stream",
     "text": [
      "SSE = 745.12038349\n",
      "MAPE = 4.1108744594\n"
     ]
    }
   ],
   "source": [
    "sse, mape, Y, Y_pred = q5_partc(\"DATAT/2010_2016.csv\", \"DATAT/2017.csv\")\n",
    "print(\"SSE = \" + str(sse))\n",
    "print(\"MAPE = \" + str(mape))"
   ]
  },
  {
   "cell_type": "markdown",
   "metadata": {},
   "source": [
    "# PART D"
   ]
  },
  {
   "cell_type": "code",
   "execution_count": 54,
   "metadata": {},
   "outputs": [
    {
     "data": {
      "image/png": "[encoded data removed]",
      "text/plain": [
       "<matplotlib.figure.Figure at 0x1118d5f60>"
      ]
     },
     "metadata": {},
     "output_type": "display_data"
    }
   ],
   "source": [
    "q5_partd(\"DATAT/2016.csv\", \"DATAT/2017.csv\")"
   ]
  },
  {
   "cell_type": "code",
   "execution_count": 55,
   "metadata": {},
   "outputs": [
    {
     "data": {
      "image/png": "[encoded data removed]",
      "text/plain": [
       "<matplotlib.figure.Figure at 0x11172da20>"
      ]
     },
     "metadata": {},
     "output_type": "display_data"
    }
   ],
   "source": [
    "q5_partd(\"DATAT/2015_2016.csv\", \"DATAT/2017.csv\")"
   ]
  },
  {
   "cell_type": "code",
   "execution_count": 56,
   "metadata": {},
   "outputs": [
    {
     "data": {
      "image/png": "[encoded data removed]",
      "text/plain": [
       "<matplotlib.figure.Figure at 0x111998c18>"
      ]
     },
     "metadata": {},
     "output_type": "display_data"
    }
   ],
   "source": [
    "q5_partd(\"DATAT/2010_2016.csv\", \"DATAT/2017.csv\")"
   ]
  },
  {
   "cell_type": "markdown",
   "metadata": {},
   "source": [
    "# PART E"
   ]
  },
  {
   "cell_type": "code",
   "execution_count": 70,
   "metadata": {},
   "outputs": [
    {
     "data": {
      "image/png": "[encoded data removed]",
      "text/plain": [
       "<matplotlib.figure.Figure at 0x1118b0048>"
      ]
     },
     "metadata": {},
     "output_type": "display_data"
    }
   ],
   "source": [
    "q5_parte(\"DATAT/2016.csv\", \"DATAT/2017.csv\")"
   ]
  },
  {
   "cell_type": "code",
   "execution_count": 71,
   "metadata": {},
   "outputs": [
    {
     "data": {
      "image/png": "[encoded data removed]",
      "text/plain": [
       "<matplotlib.figure.Figure at 0x11215d320>"
      ]
     },
     "metadata": {},
     "output_type": "display_data"
    }
   ],
   "source": [
    "q5_parte(\"DATAT/2015_2016.csv\", \"DATAT/2017.csv\")"
   ]
  },
  {
   "cell_type": "code",
   "execution_count": 72,
   "metadata": {},
   "outputs": [
    {
     "data": {
      "image/png": "[encoded data removed]",
      "text/plain": [
       "<matplotlib.figure.Figure at 0x111575128>"
      ]
     },
     "metadata": {},
     "output_type": "display_data"
    }
   ],
   "source": [
    "q5_parte(\"DATAT/2010_2016.csv\", \"DATAT/2017.csv\")"
   ]
  },
  {
   "cell_type": "code",
   "execution_count": null,
   "metadata": {
    "collapsed": true
   },
   "outputs": [],
   "source": []
  }
 ],
 "metadata": {
  "kernelspec": {
   "display_name": "Python 3",
   "language": "python",
   "name": "python3"
  },
  "language_info": {
   "codemirror_mode": {
    "name": "ipython",
    "version": 3
   },
   "file_extension": ".py",
   "mimetype": "text/x-python",
   "name": "python",
   "nbconvert_exporter": "python",
   "pygments_lexer": "ipython3",
   "version": "3.6.1"
  }
 },
 "nbformat": 4,
 "nbformat_minor": 2
}
