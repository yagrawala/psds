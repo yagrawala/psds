{
 "cells": [
  {
   "cell_type": "code",
   "execution_count": 16,
   "metadata": {
    "collapsed": true
   },
   "outputs": [],
   "source": [
    "import numpy as np\n",
    "from sklearn.linear_model import LinearRegression\n",
    "import matplotlib.pyplot as plt"
   ]
  },
  {
   "cell_type": "code",
   "execution_count": 17,
   "metadata": {
    "collapsed": true
   },
   "outputs": [],
   "source": [
    "def read_values(filename):\n",
    "    X = []\n",
    "    Y = []\n",
    "    lines = [line.rstrip('\\n') for line in open(filename)]\n",
    "    for i in range(0,len(lines)):\n",
    "        X.append(int(lines[i].split(\",\")[0]))\n",
    "        Y.append(float(lines[i].split(\",\")[1]))\n",
    "    return (X,Y)\n",
    "\n",
    "def SSE_cal(Y, Y_pred):\n",
    "    SSE = 0\n",
    "    for i in range(0,len(Y)):\n",
    "        epis_val = Y[i][0] - Y_pred[i][0]\n",
    "        SSE += epis_val**2\n",
    "\n",
    "    return SSE\n",
    "\n",
    "def MAPE_cal(Y, Y_pred):\n",
    "    MAPE_val = 0\n",
    "    count = 0\n",
    "    for i in range(0,len(Y)):\n",
    "        if Y[i][0] != 0:\n",
    "            map_val = abs((Y[i][0] - Y_pred[i][0])/Y[i][0])\n",
    "            MAPE_val += map_val\n",
    "            count += 1\n",
    "\n",
    "    MAPE = (MAPE_val*100/count)\n",
    "    return MAPE\n",
    "\n",
    "def PlotFig(X, Y, Y_pred):\n",
    "    X = np.array(X)\n",
    "    Y = np.array(Y)\n",
    "    Y_pred = np.array(Y_pred)\n",
    "\n",
    "    plt.scatter(X, Y, s=10, c=\"blue\", alpha=1, label=\"Actual Y\")\n",
    "    plt.plot(X, Y_pred, color='orange', linestyle='solid', label=\"Regression Fit\")\n",
    "    plt.xlabel('Predictor X')\n",
    "    plt.ylabel('Y')\n",
    "    plt.legend()\n",
    "    plt.show()"
   ]
  },
  {
   "cell_type": "code",
   "execution_count": 18,
   "metadata": {
    "collapsed": true
   },
   "outputs": [],
   "source": [
    "(X,Y) = read_values('A5_q2.dat')"
   ]
  },
  {
   "cell_type": "markdown",
   "metadata": {},
   "source": [
    "# PART A"
   ]
  },
  {
   "cell_type": "code",
   "execution_count": 19,
   "metadata": {},
   "outputs": [
    {
     "name": "stdout",
     "output_type": "stream",
     "text": [
      "SSE for Part A = 1016531889.26\n",
      "MAPE for Part A = 16352.3333971\n"
     ]
    },
    {
     "data": {
      "image/png": "[encoded data removed]",
      "text/plain": [
       "<matplotlib.figure.Figure at 0x111344be0>"
      ]
     },
     "metadata": {},
     "output_type": "display_data"
    }
   ],
   "source": [
    "X1 = np.array(X).reshape((len(X),1))\n",
    "Y1 = np.array(Y).reshape((len(Y),1))\n",
    "\n",
    "lm = LinearRegression()\n",
    "model = lm.fit(X1,Y1)\n",
    "Y1_pred = model.predict(X1)\n",
    "\n",
    "print(\"SSE for Part A = \" + str(SSE_cal(Y1,Y1_pred)))\n",
    "print(\"MAPE for Part A = \" + str(MAPE_cal(Y1,Y1_pred)))\n",
    "\n",
    "PlotFig(X1,Y1,Y1_pred)"
   ]
  },
  {
   "cell_type": "markdown",
   "metadata": {},
   "source": [
    "# PART B"
   ]
  },
  {
   "cell_type": "code",
   "execution_count": 20,
   "metadata": {},
   "outputs": [
    {
     "name": "stdout",
     "output_type": "stream",
     "text": [
      "SSE for Part B = 113739552.443\n",
      "MAPE for Part B = 20536.9267838\n"
     ]
    },
    {
     "data": {
      "image/png": "[encoded data removed]",
      "text/plain": [
       "<matplotlib.figure.Figure at 0x10d807eb8>"
      ]
     },
     "metadata": {},
     "output_type": "display_data"
    }
   ],
   "source": [
    "X2 = []\n",
    "for i in range(0,len(X)):\n",
    "    val = 1/(1-(X[i]/100))\n",
    "    X2.append(val)\n",
    "X2 = np.array(X2).reshape((len(X2),1))\n",
    "Y2 = np.array(Y).reshape((len(Y),1))\n",
    "\n",
    "lm = LinearRegression()\n",
    "model = lm.fit(X2,Y2)\n",
    "Y2_pred = model.predict(X2)\n",
    "\n",
    "print(\"SSE for Part B = \" + str(SSE_cal(Y2,Y2_pred)))\n",
    "print(\"MAPE for Part B = \" + str(MAPE_cal(Y2,Y2_pred)))\n",
    "\n",
    "PlotFig(X2,Y2,Y2_pred)"
   ]
  },
  {
   "cell_type": "markdown",
   "metadata": {},
   "source": [
    "# PART C"
   ]
  },
  {
   "cell_type": "code",
   "execution_count": 21,
   "metadata": {
    "scrolled": true
   },
   "outputs": [
    {
     "name": "stdout",
     "output_type": "stream",
     "text": [
      "SSE for Part C = 176.816938227\n",
      "MAPE for Part C = 28.0415653082\n"
     ]
    },
    {
     "data": {
      "image/png": "[encoded data removed]",
      "text/plain": [
       "<matplotlib.figure.Figure at 0x111695668>"
      ]
     },
     "metadata": {},
     "output_type": "display_data"
    }
   ],
   "source": [
    "X3 = []\n",
    "for i in range(0,len(X)):\n",
    "    val = 100/((100-X[i])**2)\n",
    "    X3.append(val)\n",
    "X3 = np.array(X3).reshape((len(X3),1))\n",
    "Y3 = np.array(Y).reshape((len(Y),1))\n",
    "\n",
    "lm = LinearRegression()\n",
    "model = lm.fit(X3,Y3)\n",
    "Y3_pred = model.predict(X3)\n",
    "\n",
    "print(\"SSE for Part C = \" + str(SSE_cal(Y3,Y3_pred)))\n",
    "print(\"MAPE for Part C = \" + str(MAPE_cal(Y3,Y3_pred)))\n",
    "\n",
    "PlotFig(X3,Y3,Y3_pred)"
   ]
  },
  {
   "cell_type": "markdown",
   "metadata": {
    "collapsed": true
   },
   "source": [
    "In (b) part we are given the predictor as 1/(1-(X/100)), which can be written as 100/(100-X). Now for (c) part we will take the square of the denominator i.e. our preditor will be 100/((100-X)**2)."
   ]
  },
  {
   "cell_type": "code",
   "execution_count": null,
   "metadata": {
    "collapsed": true
   },
   "outputs": [],
   "source": []
  }
 ],
 "metadata": {
  "kernelspec": {
   "display_name": "Python 3",
   "language": "python",
   "name": "python3"
  },
  "language_info": {
   "codemirror_mode": {
    "name": "ipython",
    "version": 3
   },
   "file_extension": ".py",
   "mimetype": "text/x-python",
   "name": "python",
   "nbconvert_exporter": "python",
   "pygments_lexer": "ipython3",
   "version": "3.6.1"
  }
 },
 "nbformat": 4,
 "nbformat_minor": 2
}
