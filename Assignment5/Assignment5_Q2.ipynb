{
 "cells": [
  {
   "cell_type": "code",
   "execution_count": 43,
   "metadata": {},
   "outputs": [],
   "source": [
    "import math\n",
    "import numpy as np\n",
    "import pandas as pd\n",
    "import scipy\n",
    "from sklearn.linear_model import LinearRegression\n",
    "import statsmodels.api as sm\n",
    "from sklearn.metrics import mean_squared_error\n",
    "import matplotlib.pyplot as plt\n",
    "from pylab import *"
   ]
  },
  {
   "cell_type": "code",
   "execution_count": 44,
   "metadata": {
    "collapsed": true
   },
   "outputs": [],
   "source": [
    "def read_values( filename ):\n",
    "    X = []\n",
    "    Y = []\n",
    "    lines = [line.rstrip('\\n') for line in open(filename)]\n",
    "    for i in range(0,len(lines)):\n",
    "        X.append(int(lines[i].split(\",\")[0]))\n",
    "        Y.append(float(lines[i].split(\",\")[1]))\n",
    "    return (X,Y)"
   ]
  },
  {
   "cell_type": "code",
   "execution_count": 45,
   "metadata": {},
   "outputs": [],
   "source": [
    "(X,Y) = read_values('A5_q2.txt')"
   ]
  },
  {
   "cell_type": "markdown",
   "metadata": {},
   "source": [
    "# PART A"
   ]
  },
  {
   "cell_type": "code",
   "execution_count": 128,
   "metadata": {},
   "outputs": [],
   "source": [
    "X1 = np.array(X).reshape((200,1))\n",
    "Y1 = np.array(Y).reshape((200,1))\n",
    "\n",
    "lm = LinearRegression()\n",
    "model = lm.fit(X1,Y1)\n",
    "Y1_pred = model.predict(X1)"
   ]
  },
  {
   "cell_type": "code",
   "execution_count": 136,
   "metadata": {},
   "outputs": [
    {
     "data": {
      "text/plain": [
       "1016531889.2558156"
      ]
     },
     "execution_count": 136,
     "metadata": {},
     "output_type": "execute_result"
    }
   ],
   "source": [
    "SSE_valA = 0\n",
    "for i in range(0,len(Y1)):\n",
    "    epis_valA = Y1[i] - Y1_pred[i]\n",
    "    SSE_valA += epis_valA**2\n",
    "\n",
    "SSE_A = SSE_valA.tolist()[0]\n",
    "SSE_A"
   ]
  },
  {
   "cell_type": "code",
   "execution_count": 139,
   "metadata": {},
   "outputs": [
    {
     "name": "stderr",
     "output_type": "stream",
     "text": [
      "/Users/abhinavjain/anaconda/lib/python3.6/site-packages/ipykernel_launcher.py:3: RuntimeWarning: divide by zero encountered in true_divide\n",
      "  This is separate from the ipykernel package so we can avoid doing imports until\n"
     ]
    },
    {
     "data": {
      "text/plain": [
       "inf"
      ]
     },
     "execution_count": 139,
     "metadata": {},
     "output_type": "execute_result"
    }
   ],
   "source": [
    "MAPE_valA = 0\n",
    "for i in range(0,len(Y1)):\n",
    "    map_valA = abs(Y1[i] - Y1_pred[i])*100/abs(Y1[i])\n",
    "    MAPE_valA += map_valA\n",
    "\n",
    "MAPE_A = (MAPE_val/len(Y1)).tolist()[0]\n",
    "MAPE_A"
   ]
  },
  {
   "cell_type": "code",
   "execution_count": 131,
   "metadata": {},
   "outputs": [
    {
     "data": {
      "image/png": "[encoded data removed]",
      "text/plain": [
       "<matplotlib.figure.Figure at 0x11b273860>"
      ]
     },
     "metadata": {},
     "output_type": "display_data"
    }
   ],
   "source": [
    "s = np.array(X1)\n",
    "s2 = np.array(Y1)\n",
    "s3 = np.array(Y1_pred)\n",
    "\n",
    "plt.plot(s,s2)\n",
    "plt.plot(s,s3)\n",
    "plt.xlabel('X')\n",
    "plt.ylabel('Y')\n",
    "plt.show()"
   ]
  },
  {
   "cell_type": "markdown",
   "metadata": {},
   "source": [
    "# PART B"
   ]
  },
  {
   "cell_type": "code",
   "execution_count": 132,
   "metadata": {},
   "outputs": [
    {
     "data": {
      "image/png": "[encoded data removed]",
      "text/plain": [
       "<matplotlib.figure.Figure at 0x11a4b6ef0>"
      ]
     },
     "metadata": {},
     "output_type": "display_data"
    }
   ],
   "source": [
    "X2 = []\n",
    "for i in range(0,len(X)):\n",
    "    val = 1/(1-(X[i]/100))\n",
    "    X2.append(val)\n",
    "X2 = np.array(X2).reshape((200,1))\n",
    "Y2 = np.array(Y).reshape((200,1))\n",
    "\n",
    "lm = LinearRegression()\n",
    "model = lm.fit(X2,Y2)\n",
    "Y2_pred = model.predict(X2)\n",
    "\n",
    "s = np.array(X2)\n",
    "s2 = np.array(Y2)\n",
    "s3 = np.array(Y2_pred)\n",
    "\n",
    "plt.plot(s,s2)\n",
    "plt.plot(s,s3)\n",
    "plt.xlabel('X')\n",
    "plt.ylabel('Y')\n",
    "plt.show()"
   ]
  },
  {
   "cell_type": "code",
   "execution_count": 133,
   "metadata": {},
   "outputs": [
    {
     "data": {
      "text/plain": [
       "113739552.44285606"
      ]
     },
     "execution_count": 133,
     "metadata": {},
     "output_type": "execute_result"
    }
   ],
   "source": [
    "SSE_valB = 0\n",
    "for i in range(0,len(Y2)):\n",
    "    epis_valB = Y2[i] - Y2_pred[i]\n",
    "    SSE_valB += epis_valB**2\n",
    "\n",
    "SSE_B = SSE_valB.tolist()[0]\n",
    "SSE_B"
   ]
  },
  {
   "cell_type": "code",
   "execution_count": 140,
   "metadata": {},
   "outputs": [
    {
     "name": "stderr",
     "output_type": "stream",
     "text": [
      "/Users/abhinavjain/anaconda/lib/python3.6/site-packages/ipykernel_launcher.py:3: RuntimeWarning: divide by zero encountered in true_divide\n",
      "  This is separate from the ipykernel package so we can avoid doing imports until\n"
     ]
    },
    {
     "data": {
      "text/plain": [
       "inf"
      ]
     },
     "execution_count": 140,
     "metadata": {},
     "output_type": "execute_result"
    }
   ],
   "source": [
    "MAPE_valB = 0\n",
    "for i in range(0,len(Y2)):\n",
    "    map_valB = abs(Y2[i] - Y2_pred[i])*100/abs(Y2[i])\n",
    "    MAPE_valB += map_valB\n",
    "\n",
    "MAPE_B = (MAPE_valB/len(Y2)).tolist()[0]\n",
    "MAPE_B"
   ]
  },
  {
   "cell_type": "markdown",
   "metadata": {},
   "source": [
    "# PART C"
   ]
  },
  {
   "cell_type": "code",
   "execution_count": 105,
   "metadata": {
    "scrolled": true
   },
   "outputs": [
    {
     "name": "stdout",
     "output_type": "stream",
     "text": [
      "RMSE: 568697.762214\n"
     ]
    },
    {
     "data": {
      "image/png": "[encoded data removed]",
      "text/plain": [
       "<matplotlib.figure.Figure at 0x110724080>"
      ]
     },
     "metadata": {},
     "output_type": "display_data"
    }
   ],
   "source": [
    "X3 = []\n",
    "for i in range(0,len(X)):\n",
    "    val = (100)/(100-X[i])\n",
    "    X3.append(val)\n",
    "X3 = np.array(X3).reshape((200,1))\n",
    "Y3 = np.array(Y).reshape((200,1))\n",
    "\n",
    "lm = LinearRegression()\n",
    "model = lm.fit(X3,Y3)\n",
    "Y3_pred = model.predict(X3)\n",
    "\n",
    "s = np.array(X3)\n",
    "s2 = np.array(Y3)\n",
    "s3 = np.array(Y3_pred)\n",
    "\n",
    "plt.plot(s,s2)\n",
    "plt.plot(s,s3)\n",
    "plt.xlabel('X')\n",
    "plt.ylabel('Y')\n",
    "plt.show()"
   ]
  },
  {
   "cell_type": "code",
   "execution_count": 134,
   "metadata": {},
   "outputs": [
    {
     "data": {
      "text/plain": [
       "113739552.442856"
      ]
     },
     "execution_count": 134,
     "metadata": {},
     "output_type": "execute_result"
    }
   ],
   "source": [
    "SSE_valC = 0\n",
    "for i in range(0,len(Y3)):\n",
    "    epis_valC = Y3[i] - Y3_pred[i]\n",
    "    SSE_valC += epis_valC**2\n",
    "\n",
    "SSE_C = SSE_valC.tolist()[0]\n",
    "SSE_C"
   ]
  },
  {
   "cell_type": "code",
   "execution_count": 142,
   "metadata": {},
   "outputs": [
    {
     "name": "stderr",
     "output_type": "stream",
     "text": [
      "/Users/abhinavjain/anaconda/lib/python3.6/site-packages/ipykernel_launcher.py:3: RuntimeWarning: divide by zero encountered in true_divide\n",
      "  This is separate from the ipykernel package so we can avoid doing imports until\n"
     ]
    },
    {
     "data": {
      "text/plain": [
       "inf"
      ]
     },
     "execution_count": 142,
     "metadata": {},
     "output_type": "execute_result"
    }
   ],
   "source": [
    "MAPE_valC = 0\n",
    "for i in range(0,len(Y3)):\n",
    "    map_valC = abs(Y3[i] - Y3_pred[i])*100/abs(Y3[i])\n",
    "    MAPE_valC += map_valC\n",
    "\n",
    "MAPE_C = (MAPE_valC/len(Y3)).tolist()[0]\n",
    "MAPE_C"
   ]
  },
  {
   "cell_type": "code",
   "execution_count": null,
   "metadata": {
    "collapsed": true
   },
   "outputs": [],
   "source": []
  }
 ],
 "metadata": {
  "kernelspec": {
   "display_name": "Python 3",
   "language": "python",
   "name": "python3"
  },
  "language_info": {
   "codemirror_mode": {
    "name": "ipython",
    "version": 3
   },
   "file_extension": ".py",
   "mimetype": "text/x-python",
   "name": "python",
   "nbconvert_exporter": "python",
   "pygments_lexer": "ipython3",
   "version": "3.6.1"
  }
 },
 "nbformat": 4,
 "nbformat_minor": 2
}
